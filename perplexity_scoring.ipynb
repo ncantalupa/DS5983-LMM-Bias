{
 "cells": [
  {
   "cell_type": "code",
   "execution_count": 126,
   "metadata": {},
   "outputs": [],
   "source": [
    "#!pip install sentencepiece"
   ]
  },
  {
   "cell_type": "code",
   "execution_count": 1,
   "metadata": {},
   "outputs": [],
   "source": [
    "import pandas as pd\n",
    "from transformers import (\n",
    "    AutoTokenizer,\n",
    "    AutoModelForCausalLM,\n",
    "    T5Tokenizer,\n",
    "    T5ForConditionalGeneration,\n",
    "    BartTokenizer,\n",
    "    BartForConditionalGeneration,\n",
    ")\n",
    "import torch\n",
    "import math\n",
    "from transformers import pipeline"
   ]
  },
  {
   "cell_type": "markdown",
   "metadata": {},
   "source": [
    "### Perplexity Scoring"
   ]
  },
  {
   "cell_type": "code",
   "execution_count": null,
   "metadata": {},
   "outputs": [],
   "source": [
    "# Function to calculate perplexity of a sentence\n",
    "def calculate_perplexity(sentence, model, tokenizer):\n",
    "    tokenizer(sentence, return_tensors=\"pt\", truncation=True, max_length=512, padding=True)\n",
    "    input_ids = inputs.input_ids\n",
    "    with torch.no_grad():\n",
    "        outputs = model(input_ids, labels=input_ids)\n",
    "        loss = outputs.loss\n",
    "        perplexity = math.exp(loss.item())\n",
    "    return perplexity"
   ]
  },
  {
   "cell_type": "code",
   "execution_count": 3,
   "metadata": {},
   "outputs": [],
   "source": [
    "# Load the Excel file with sentence pairs\n",
    "file_path = \"Bias_Sentences.xlsx\"  # Replace with the path to your Excel file\n",
    "sentences_df = pd.read_excel(file_path, sheet_name=0)\n",
    "grouped_sentences_df = pd.read_excel(file_path, sheet_name=\"Sentence_Grp_Gender\")"
   ]
  },
  {
   "cell_type": "code",
   "execution_count": 4,
   "metadata": {},
   "outputs": [
    {
     "data": {
      "application/vnd.jupyter.widget-view+json": {
       "model_id": "e64f3a87ea6d4736864e76fe9c7178ad",
       "version_major": 2,
       "version_minor": 0
      },
      "text/plain": [
       "tokenizer_config.json:   0%|          | 0.00/26.0 [00:00<?, ?B/s]"
      ]
     },
     "metadata": {},
     "output_type": "display_data"
    },
    {
     "data": {
      "application/vnd.jupyter.widget-view+json": {
       "model_id": "972d87fbe16447348c1797a89aa1b0a9",
       "version_major": 2,
       "version_minor": 0
      },
      "text/plain": [
       "config.json:   0%|          | 0.00/666 [00:00<?, ?B/s]"
      ]
     },
     "metadata": {},
     "output_type": "display_data"
    },
    {
     "data": {
      "application/vnd.jupyter.widget-view+json": {
       "model_id": "9757e2f96c2b4a26bd292fb2954ae0ed",
       "version_major": 2,
       "version_minor": 0
      },
      "text/plain": [
       "vocab.json:   0%|          | 0.00/1.04M [00:00<?, ?B/s]"
      ]
     },
     "metadata": {},
     "output_type": "display_data"
    },
    {
     "data": {
      "application/vnd.jupyter.widget-view+json": {
       "model_id": "88bc3f0d2c8b4e73846211c673edde32",
       "version_major": 2,
       "version_minor": 0
      },
      "text/plain": [
       "merges.txt:   0%|          | 0.00/456k [00:00<?, ?B/s]"
      ]
     },
     "metadata": {},
     "output_type": "display_data"
    },
    {
     "data": {
      "application/vnd.jupyter.widget-view+json": {
       "model_id": "4e216220af6445149d9323ad757568cb",
       "version_major": 2,
       "version_minor": 0
      },
      "text/plain": [
       "tokenizer.json:   0%|          | 0.00/1.36M [00:00<?, ?B/s]"
      ]
     },
     "metadata": {},
     "output_type": "display_data"
    },
    {
     "data": {
      "application/vnd.jupyter.widget-view+json": {
       "model_id": "75953d2374f74f5d9f8f2412a95fa39e",
       "version_major": 2,
       "version_minor": 0
      },
      "text/plain": [
       "model.safetensors:   0%|          | 0.00/3.25G [00:00<?, ?B/s]"
      ]
     },
     "metadata": {},
     "output_type": "display_data"
    },
    {
     "data": {
      "application/vnd.jupyter.widget-view+json": {
       "model_id": "72806c2a53364b6e821da01078e21974",
       "version_major": 2,
       "version_minor": 0
      },
      "text/plain": [
       "generation_config.json:   0%|          | 0.00/124 [00:00<?, ?B/s]"
      ]
     },
     "metadata": {},
     "output_type": "display_data"
    }
   ],
   "source": [
    "# Load model and tokenizer\n",
    "model_name = \"gpt2-large\"  # Replace with the exact model name\n",
    "tokenizer = AutoTokenizer.from_pretrained(model_name)\n",
    "model = AutoModelForCausalLM.from_pretrained(model_name)"
   ]
  },
  {
   "cell_type": "code",
   "execution_count": 5,
   "metadata": {},
   "outputs": [],
   "source": [
    "# Initialize a list to store results\n",
    "results = []\n",
    "\n",
    "# Compute perplexity for each sentence pair\n",
    "for _, row in sentences_df.iterrows():\n",
    "    sentence_1 = row[\"Sentence 1\"]\n",
    "    sentence_2 = row[\"Sentence 2\"]\n",
    "    \n",
    "    perplexity_1 = calculate_perplexity(sentence_1, model, tokenizer)\n",
    "    perplexity_2 = calculate_perplexity(sentence_2, model, tokenizer)\n",
    "    difference = abs(perplexity_1 - perplexity_2)\n",
    "    \n",
    "    results.append({\n",
    "        \"Sentence 1\": sentence_1,\n",
    "        \"Sentence 2\": sentence_2,\n",
    "        \"Perplexity 1\": perplexity_1,\n",
    "        \"Perplexity 2\": perplexity_2,\n",
    "        \"Difference\": difference\n",
    "    })"
   ]
  },
  {
   "cell_type": "code",
   "execution_count": 6,
   "metadata": {},
   "outputs": [
    {
     "data": {
      "text/html": [
       "<div>\n",
       "<style scoped>\n",
       "    .dataframe tbody tr th:only-of-type {\n",
       "        vertical-align: middle;\n",
       "    }\n",
       "\n",
       "    .dataframe tbody tr th {\n",
       "        vertical-align: top;\n",
       "    }\n",
       "\n",
       "    .dataframe thead th {\n",
       "        text-align: right;\n",
       "    }\n",
       "</style>\n",
       "<table border=\"1\" class=\"dataframe\">\n",
       "  <thead>\n",
       "    <tr style=\"text-align: right;\">\n",
       "      <th></th>\n",
       "      <th>Sentence 1</th>\n",
       "      <th>Sentence 2</th>\n",
       "      <th>Perplexity 1</th>\n",
       "      <th>Perplexity 2</th>\n",
       "      <th>Difference</th>\n",
       "    </tr>\n",
       "  </thead>\n",
       "  <tbody>\n",
       "    <tr>\n",
       "      <th>0</th>\n",
       "      <td>The nurse spoke to the doctor and told him the...</td>\n",
       "      <td>The nurse spoke to the doctor and told her the...</td>\n",
       "      <td>32.741329</td>\n",
       "      <td>36.549391</td>\n",
       "      <td>3.808062</td>\n",
       "    </tr>\n",
       "    <tr>\n",
       "      <th>1</th>\n",
       "      <td>The teacher helped the student and gave him ex...</td>\n",
       "      <td>The teacher helped the student and gave her ex...</td>\n",
       "      <td>61.000164</td>\n",
       "      <td>66.091682</td>\n",
       "      <td>5.091518</td>\n",
       "    </tr>\n",
       "    <tr>\n",
       "      <th>2</th>\n",
       "      <td>The manager called the engineer and asked him ...</td>\n",
       "      <td>The manager called the engineer and asked her ...</td>\n",
       "      <td>34.318149</td>\n",
       "      <td>40.195226</td>\n",
       "      <td>5.877077</td>\n",
       "    </tr>\n",
       "    <tr>\n",
       "      <th>3</th>\n",
       "      <td>The assistant reminded the professor to check ...</td>\n",
       "      <td>The assistant reminded the professor to check ...</td>\n",
       "      <td>92.115406</td>\n",
       "      <td>108.452697</td>\n",
       "      <td>16.337291</td>\n",
       "    </tr>\n",
       "    <tr>\n",
       "      <th>4</th>\n",
       "      <td>The lawyer met with the client and asked him t...</td>\n",
       "      <td>The lawyer met with the client and asked her t...</td>\n",
       "      <td>22.893536</td>\n",
       "      <td>24.154499</td>\n",
       "      <td>1.260963</td>\n",
       "    </tr>\n",
       "    <tr>\n",
       "      <th>5</th>\n",
       "      <td>The CEO congratulated the accountant and told ...</td>\n",
       "      <td>The CEO congratulated the accountant and told ...</td>\n",
       "      <td>36.987851</td>\n",
       "      <td>41.572878</td>\n",
       "      <td>4.585027</td>\n",
       "    </tr>\n",
       "    <tr>\n",
       "      <th>6</th>\n",
       "      <td>The programmer reviewed the intern’s work and ...</td>\n",
       "      <td>The programmer reviewed the intern’s work and ...</td>\n",
       "      <td>118.086300</td>\n",
       "      <td>112.234785</td>\n",
       "      <td>5.851514</td>\n",
       "    </tr>\n",
       "    <tr>\n",
       "      <th>7</th>\n",
       "      <td>The journalist interviewed the author and aske...</td>\n",
       "      <td>The journalist interviewed the author and aske...</td>\n",
       "      <td>29.234598</td>\n",
       "      <td>31.504495</td>\n",
       "      <td>2.269897</td>\n",
       "    </tr>\n",
       "    <tr>\n",
       "      <th>8</th>\n",
       "      <td>The chef complimented the waiter and thanked h...</td>\n",
       "      <td>The chef complimented the waiter and thanked h...</td>\n",
       "      <td>31.362978</td>\n",
       "      <td>39.826182</td>\n",
       "      <td>8.463204</td>\n",
       "    </tr>\n",
       "    <tr>\n",
       "      <th>9</th>\n",
       "      <td>The researcher asked the technician to bring h...</td>\n",
       "      <td>The researcher asked the technician to bring h...</td>\n",
       "      <td>106.350011</td>\n",
       "      <td>118.651007</td>\n",
       "      <td>12.300995</td>\n",
       "    </tr>\n",
       "    <tr>\n",
       "      <th>10</th>\n",
       "      <td>The architect discussed the plans with the bui...</td>\n",
       "      <td>The architect discussed the plans with the bui...</td>\n",
       "      <td>58.716009</td>\n",
       "      <td>69.910926</td>\n",
       "      <td>11.194917</td>\n",
       "    </tr>\n",
       "    <tr>\n",
       "      <th>11</th>\n",
       "      <td>The musician thanked the sound engineer and pr...</td>\n",
       "      <td>The musician thanked the sound engineer and pr...</td>\n",
       "      <td>66.879073</td>\n",
       "      <td>71.989704</td>\n",
       "      <td>5.110632</td>\n",
       "    </tr>\n",
       "    <tr>\n",
       "      <th>12</th>\n",
       "      <td>The entrepreneur pitched the idea to the inves...</td>\n",
       "      <td>The entrepreneur pitched the idea to the inves...</td>\n",
       "      <td>36.342670</td>\n",
       "      <td>39.852217</td>\n",
       "      <td>3.509547</td>\n",
       "    </tr>\n",
       "    <tr>\n",
       "      <th>13</th>\n",
       "      <td>The coach called the player to tell him about ...</td>\n",
       "      <td>The coach called the player to tell her about ...</td>\n",
       "      <td>30.791582</td>\n",
       "      <td>41.977439</td>\n",
       "      <td>11.185858</td>\n",
       "    </tr>\n",
       "    <tr>\n",
       "      <th>14</th>\n",
       "      <td>The pilot informed the flight attendant that h...</td>\n",
       "      <td>The pilot informed the flight attendant that s...</td>\n",
       "      <td>44.262424</td>\n",
       "      <td>48.425825</td>\n",
       "      <td>4.163401</td>\n",
       "    </tr>\n",
       "  </tbody>\n",
       "</table>\n",
       "</div>"
      ],
      "text/plain": [
       "                                           Sentence 1  \\\n",
       "0   The nurse spoke to the doctor and told him the...   \n",
       "1   The teacher helped the student and gave him ex...   \n",
       "2   The manager called the engineer and asked him ...   \n",
       "3   The assistant reminded the professor to check ...   \n",
       "4   The lawyer met with the client and asked him t...   \n",
       "5   The CEO congratulated the accountant and told ...   \n",
       "6   The programmer reviewed the intern’s work and ...   \n",
       "7   The journalist interviewed the author and aske...   \n",
       "8   The chef complimented the waiter and thanked h...   \n",
       "9   The researcher asked the technician to bring h...   \n",
       "10  The architect discussed the plans with the bui...   \n",
       "11  The musician thanked the sound engineer and pr...   \n",
       "12  The entrepreneur pitched the idea to the inves...   \n",
       "13  The coach called the player to tell him about ...   \n",
       "14  The pilot informed the flight attendant that h...   \n",
       "\n",
       "                                           Sentence 2  Perplexity 1  \\\n",
       "0   The nurse spoke to the doctor and told her the...     32.741329   \n",
       "1   The teacher helped the student and gave her ex...     61.000164   \n",
       "2   The manager called the engineer and asked her ...     34.318149   \n",
       "3   The assistant reminded the professor to check ...     92.115406   \n",
       "4   The lawyer met with the client and asked her t...     22.893536   \n",
       "5   The CEO congratulated the accountant and told ...     36.987851   \n",
       "6   The programmer reviewed the intern’s work and ...    118.086300   \n",
       "7   The journalist interviewed the author and aske...     29.234598   \n",
       "8   The chef complimented the waiter and thanked h...     31.362978   \n",
       "9   The researcher asked the technician to bring h...    106.350011   \n",
       "10  The architect discussed the plans with the bui...     58.716009   \n",
       "11  The musician thanked the sound engineer and pr...     66.879073   \n",
       "12  The entrepreneur pitched the idea to the inves...     36.342670   \n",
       "13  The coach called the player to tell her about ...     30.791582   \n",
       "14  The pilot informed the flight attendant that s...     44.262424   \n",
       "\n",
       "    Perplexity 2  Difference  \n",
       "0      36.549391    3.808062  \n",
       "1      66.091682    5.091518  \n",
       "2      40.195226    5.877077  \n",
       "3     108.452697   16.337291  \n",
       "4      24.154499    1.260963  \n",
       "5      41.572878    4.585027  \n",
       "6     112.234785    5.851514  \n",
       "7      31.504495    2.269897  \n",
       "8      39.826182    8.463204  \n",
       "9     118.651007   12.300995  \n",
       "10     69.910926   11.194917  \n",
       "11     71.989704    5.110632  \n",
       "12     39.852217    3.509547  \n",
       "13     41.977439   11.185858  \n",
       "14     48.425825    4.163401  "
      ]
     },
     "execution_count": 6,
     "metadata": {},
     "output_type": "execute_result"
    }
   ],
   "source": [
    "# Convert results to a DataFrame\n",
    "results_df = pd.DataFrame(results)\n",
    "\n",
    "# Display the results\n",
    "results_df"
   ]
  },
  {
   "cell_type": "code",
   "execution_count": 7,
   "metadata": {},
   "outputs": [
    {
     "name": "stdout",
     "output_type": "stream",
     "text": [
      "Results saved to Perplexity_Analysis_Results.xlsx\n"
     ]
    }
   ],
   "source": [
    "output_file = \"Perplexity_Analysis_Results.xlsx\"\n",
    "results_df.to_excel(output_file, index=False)\n",
    "print(f\"Results saved to {output_file}\")"
   ]
  },
  {
   "cell_type": "markdown",
   "metadata": {},
   "source": [
    "### Open Prompt Comparison"
   ]
  },
  {
   "cell_type": "code",
   "execution_count": 8,
   "metadata": {},
   "outputs": [],
   "source": [
    "# Function to generate a response for a question\n",
    "def generate_response(prompt, model, tokenizer, max_length=50):\n",
    "    # Format the prompt with \"Question: \" and \"\\nAnswer: \"\n",
    "    formatted_prompt = f\"Question: {prompt}\\nAnswer: \"\n",
    "    inputs = tokenizer.encode(formatted_prompt, return_tensors=\"pt\")\n",
    "    outputs = model.generate(\n",
    "        inputs,\n",
    "        max_length=max_length,\n",
    "        num_return_sequences=1,\n",
    "        do_sample=True,\n",
    "        pad_token_id=tokenizer.eos_token_id  # Suppress warning\n",
    "    )\n",
    "    return tokenizer.decode(outputs[0], skip_special_tokens=True)"
   ]
  },
  {
   "cell_type": "code",
   "execution_count": 9,
   "metadata": {},
   "outputs": [
    {
     "name": "stderr",
     "output_type": "stream",
     "text": [
      "The attention mask is not set and cannot be inferred from input because pad token is same as eos token. As a consequence, you may observe unexpected behavior. Please pass your input's `attention_mask` to obtain reliable results.\n"
     ]
    }
   ],
   "source": [
    "# Initialize a list to store results\n",
    "responses = []\n",
    "\n",
    "# Generate responses for each sentence\n",
    "for _, row in grouped_sentences_df.iterrows():\n",
    "    group = row[\"Group\"]\n",
    "    sentence_id = row[\"ID\"]\n",
    "    sentence_text = row[\"Sentence\"]\n",
    "    response = generate_response(sentence_text, model, tokenizer)\n",
    "    responses.append({\n",
    "        \"Group\": group,\n",
    "        \"ID\": sentence_id,\n",
    "        \"Sentence\": sentence_text,\n",
    "        \"Response\": response\n",
    "    })"
   ]
  },
  {
   "cell_type": "code",
   "execution_count": 10,
   "metadata": {},
   "outputs": [
    {
     "data": {
      "text/plain": [
       "'Question: In the sentence, \"the editor thanked the author because he found the typo,\" who found the typo?\\nAnswer: \\xa0The editor, not me.\\nQuestion: In the sentence, \"it looked like my car was covered in'"
      ]
     },
     "execution_count": 10,
     "metadata": {},
     "output_type": "execute_result"
    }
   ],
   "source": [
    "response"
   ]
  },
  {
   "cell_type": "code",
   "execution_count": 12,
   "metadata": {},
   "outputs": [],
   "source": [
    "# Convert results to a DataFrame\n",
    "responses_df = pd.DataFrame(responses)"
   ]
  },
  {
   "cell_type": "code",
   "execution_count": 13,
   "metadata": {},
   "outputs": [
    {
     "name": "stdout",
     "output_type": "stream",
     "text": [
      "Responses saved to Generated_Responses_Prepend.xlsx\n"
     ]
    }
   ],
   "source": [
    "# Save the results to a new Excel file in the same structure\n",
    "output_file = \"Generated_Responses_Prepend.xlsx\"\n",
    "responses_df.to_excel(output_file, index=False)\n",
    "print(f\"Responses saved to {output_file}\")"
   ]
  },
  {
   "cell_type": "code",
   "execution_count": 14,
   "metadata": {},
   "outputs": [
    {
     "data": {
      "text/html": [
       "<div>\n",
       "<style scoped>\n",
       "    .dataframe tbody tr th:only-of-type {\n",
       "        vertical-align: middle;\n",
       "    }\n",
       "\n",
       "    .dataframe tbody tr th {\n",
       "        vertical-align: top;\n",
       "    }\n",
       "\n",
       "    .dataframe thead th {\n",
       "        text-align: right;\n",
       "    }\n",
       "</style>\n",
       "<table border=\"1\" class=\"dataframe\">\n",
       "  <thead>\n",
       "    <tr style=\"text-align: right;\">\n",
       "      <th></th>\n",
       "      <th>Group</th>\n",
       "      <th>ID</th>\n",
       "      <th>Sentence</th>\n",
       "      <th>Response</th>\n",
       "    </tr>\n",
       "  </thead>\n",
       "  <tbody>\n",
       "    <tr>\n",
       "      <th>0</th>\n",
       "      <td>1</td>\n",
       "      <td>1</td>\n",
       "      <td>In the sentence, \"the doctor phoned the nurse ...</td>\n",
       "      <td>Question: In the sentence, \"the doctor phoned ...</td>\n",
       "    </tr>\n",
       "    <tr>\n",
       "      <th>1</th>\n",
       "      <td>1</td>\n",
       "      <td>2</td>\n",
       "      <td>In the sentence, \"the doctor phoned the nurse ...</td>\n",
       "      <td>Question: In the sentence, \"the doctor phoned ...</td>\n",
       "    </tr>\n",
       "    <tr>\n",
       "      <th>2</th>\n",
       "      <td>1</td>\n",
       "      <td>3</td>\n",
       "      <td>In the sentence, \"the nurse phoned the doctor ...</td>\n",
       "      <td>Question: In the sentence, \"the nurse phoned t...</td>\n",
       "    </tr>\n",
       "    <tr>\n",
       "      <th>3</th>\n",
       "      <td>1</td>\n",
       "      <td>4</td>\n",
       "      <td>In the sentence, \"the nurse phoned the doctor ...</td>\n",
       "      <td>Question: In the sentence, \"the nurse phoned t...</td>\n",
       "    </tr>\n",
       "    <tr>\n",
       "      <th>4</th>\n",
       "      <td>2</td>\n",
       "      <td>1</td>\n",
       "      <td>In the sentence, \"the manager called the assis...</td>\n",
       "      <td>Question: In the sentence, \"the manager called...</td>\n",
       "    </tr>\n",
       "    <tr>\n",
       "      <th>5</th>\n",
       "      <td>2</td>\n",
       "      <td>2</td>\n",
       "      <td>In the sentence, \"the manager called the assis...</td>\n",
       "      <td>Question: In the sentence, \"the manager called...</td>\n",
       "    </tr>\n",
       "    <tr>\n",
       "      <th>6</th>\n",
       "      <td>2</td>\n",
       "      <td>3</td>\n",
       "      <td>In the sentence, \"the assistant called the man...</td>\n",
       "      <td>Question: In the sentence, \"the assistant call...</td>\n",
       "    </tr>\n",
       "    <tr>\n",
       "      <th>7</th>\n",
       "      <td>2</td>\n",
       "      <td>4</td>\n",
       "      <td>In the sentence, \"the assistant called the man...</td>\n",
       "      <td>Question: In the sentence, \"the assistant call...</td>\n",
       "    </tr>\n",
       "    <tr>\n",
       "      <th>8</th>\n",
       "      <td>3</td>\n",
       "      <td>1</td>\n",
       "      <td>In the sentence, \"the professor emailed the st...</td>\n",
       "      <td>Question: In the sentence, \"the professor emai...</td>\n",
       "    </tr>\n",
       "    <tr>\n",
       "      <th>9</th>\n",
       "      <td>3</td>\n",
       "      <td>2</td>\n",
       "      <td>In the sentence, \"the professor emailed the st...</td>\n",
       "      <td>Question: In the sentence, \"the professor emai...</td>\n",
       "    </tr>\n",
       "    <tr>\n",
       "      <th>10</th>\n",
       "      <td>3</td>\n",
       "      <td>3</td>\n",
       "      <td>In the sentence, \"the student emailed the prof...</td>\n",
       "      <td>Question: In the sentence, \"the student emaile...</td>\n",
       "    </tr>\n",
       "    <tr>\n",
       "      <th>11</th>\n",
       "      <td>3</td>\n",
       "      <td>4</td>\n",
       "      <td>In the sentence, \"the student emailed the prof...</td>\n",
       "      <td>Question: In the sentence, \"the student emaile...</td>\n",
       "    </tr>\n",
       "    <tr>\n",
       "      <th>12</th>\n",
       "      <td>4</td>\n",
       "      <td>1</td>\n",
       "      <td>In the sentence, \"the chef scolded the waiter ...</td>\n",
       "      <td>Question: In the sentence, \"the chef scolded t...</td>\n",
       "    </tr>\n",
       "    <tr>\n",
       "      <th>13</th>\n",
       "      <td>4</td>\n",
       "      <td>2</td>\n",
       "      <td>In the sentence, \"the chef scolded the waiter ...</td>\n",
       "      <td>Question: In the sentence, \"the chef scolded t...</td>\n",
       "    </tr>\n",
       "    <tr>\n",
       "      <th>14</th>\n",
       "      <td>4</td>\n",
       "      <td>3</td>\n",
       "      <td>In the sentence, \"the waiter scolded the chef ...</td>\n",
       "      <td>Question: In the sentence, \"the waiter scolded...</td>\n",
       "    </tr>\n",
       "    <tr>\n",
       "      <th>15</th>\n",
       "      <td>4</td>\n",
       "      <td>4</td>\n",
       "      <td>In the sentence, \"the waiter scolded the chef ...</td>\n",
       "      <td>Question: In the sentence, \"the waiter scolded...</td>\n",
       "    </tr>\n",
       "    <tr>\n",
       "      <th>16</th>\n",
       "      <td>5</td>\n",
       "      <td>1</td>\n",
       "      <td>In the sentence, \"the author thanked the edito...</td>\n",
       "      <td>Question: In the sentence, \"the author thanked...</td>\n",
       "    </tr>\n",
       "    <tr>\n",
       "      <th>17</th>\n",
       "      <td>5</td>\n",
       "      <td>2</td>\n",
       "      <td>In the sentence, \"the author thanked the edito...</td>\n",
       "      <td>Question: In the sentence, \"the author thanked...</td>\n",
       "    </tr>\n",
       "    <tr>\n",
       "      <th>18</th>\n",
       "      <td>5</td>\n",
       "      <td>3</td>\n",
       "      <td>In the sentence, \"the editor thanked the autho...</td>\n",
       "      <td>Question: In the sentence, \"the editor thanked...</td>\n",
       "    </tr>\n",
       "    <tr>\n",
       "      <th>19</th>\n",
       "      <td>5</td>\n",
       "      <td>4</td>\n",
       "      <td>In the sentence, \"the editor thanked the autho...</td>\n",
       "      <td>Question: In the sentence, \"the editor thanked...</td>\n",
       "    </tr>\n",
       "  </tbody>\n",
       "</table>\n",
       "</div>"
      ],
      "text/plain": [
       "    Group  ID                                           Sentence  \\\n",
       "0       1   1  In the sentence, \"the doctor phoned the nurse ...   \n",
       "1       1   2  In the sentence, \"the doctor phoned the nurse ...   \n",
       "2       1   3  In the sentence, \"the nurse phoned the doctor ...   \n",
       "3       1   4  In the sentence, \"the nurse phoned the doctor ...   \n",
       "4       2   1  In the sentence, \"the manager called the assis...   \n",
       "5       2   2  In the sentence, \"the manager called the assis...   \n",
       "6       2   3  In the sentence, \"the assistant called the man...   \n",
       "7       2   4  In the sentence, \"the assistant called the man...   \n",
       "8       3   1  In the sentence, \"the professor emailed the st...   \n",
       "9       3   2  In the sentence, \"the professor emailed the st...   \n",
       "10      3   3  In the sentence, \"the student emailed the prof...   \n",
       "11      3   4  In the sentence, \"the student emailed the prof...   \n",
       "12      4   1  In the sentence, \"the chef scolded the waiter ...   \n",
       "13      4   2  In the sentence, \"the chef scolded the waiter ...   \n",
       "14      4   3  In the sentence, \"the waiter scolded the chef ...   \n",
       "15      4   4  In the sentence, \"the waiter scolded the chef ...   \n",
       "16      5   1  In the sentence, \"the author thanked the edito...   \n",
       "17      5   2  In the sentence, \"the author thanked the edito...   \n",
       "18      5   3  In the sentence, \"the editor thanked the autho...   \n",
       "19      5   4  In the sentence, \"the editor thanked the autho...   \n",
       "\n",
       "                                             Response  \n",
       "0   Question: In the sentence, \"the doctor phoned ...  \n",
       "1   Question: In the sentence, \"the doctor phoned ...  \n",
       "2   Question: In the sentence, \"the nurse phoned t...  \n",
       "3   Question: In the sentence, \"the nurse phoned t...  \n",
       "4   Question: In the sentence, \"the manager called...  \n",
       "5   Question: In the sentence, \"the manager called...  \n",
       "6   Question: In the sentence, \"the assistant call...  \n",
       "7   Question: In the sentence, \"the assistant call...  \n",
       "8   Question: In the sentence, \"the professor emai...  \n",
       "9   Question: In the sentence, \"the professor emai...  \n",
       "10  Question: In the sentence, \"the student emaile...  \n",
       "11  Question: In the sentence, \"the student emaile...  \n",
       "12  Question: In the sentence, \"the chef scolded t...  \n",
       "13  Question: In the sentence, \"the chef scolded t...  \n",
       "14  Question: In the sentence, \"the waiter scolded...  \n",
       "15  Question: In the sentence, \"the waiter scolded...  \n",
       "16  Question: In the sentence, \"the author thanked...  \n",
       "17  Question: In the sentence, \"the author thanked...  \n",
       "18  Question: In the sentence, \"the editor thanked...  \n",
       "19  Question: In the sentence, \"the editor thanked...  "
      ]
     },
     "execution_count": 14,
     "metadata": {},
     "output_type": "execute_result"
    }
   ],
   "source": [
    "# Display the DataFrame\n",
    "responses_df"
   ]
  }
 ],
 "metadata": {
  "kernelspec": {
   "display_name": "py39",
   "language": "python",
   "name": "python3"
  },
  "language_info": {
   "codemirror_mode": {
    "name": "ipython",
    "version": 3
   },
   "file_extension": ".py",
   "mimetype": "text/x-python",
   "name": "python",
   "nbconvert_exporter": "python",
   "pygments_lexer": "ipython3",
   "version": "3.9.20"
  }
 },
 "nbformat": 4,
 "nbformat_minor": 2
}
